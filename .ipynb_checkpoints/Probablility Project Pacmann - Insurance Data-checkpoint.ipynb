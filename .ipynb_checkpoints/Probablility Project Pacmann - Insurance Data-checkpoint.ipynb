{
 "cells": [
  {
   "cell_type": "markdown",
   "id": "fba35b1a",
   "metadata": {},
   "source": [
    "## Read data dan import Library yang dibutuhkan "
   ]
  },
  {
   "cell_type": "code",
   "execution_count": 1,
   "id": "97ad7014",
   "metadata": {},
   "outputs": [],
   "source": [
    "# Import libraries\n",
    "import pandas as pd\n",
    "import numpy as np\n",
    "import itertools\n",
    "import random as rd\n",
    "import seaborn as sns\n",
    "import matplotlib.pyplot as plt\n",
    "%matplotlib inline\n",
    "\n",
    "import warnings\n",
    "warnings.filterwarnings(\"ignore\")\n",
    "\n",
    "from matplotlib.pyplot import figure\n",
    "\n",
    "from scipy import stats\n",
    "from scipy.stats import chi2_contingency\n",
    "from scipy.stats import levene\n",
    "from scipy.stats import ttest_ind"
   ]
  },
  {
   "cell_type": "code",
   "execution_count": 2,
   "id": "974d1ce5",
   "metadata": {},
   "outputs": [],
   "source": [
    "df = pd.read_csv('insurance.csv')"
   ]
  },
  {
   "cell_type": "code",
   "execution_count": 3,
   "id": "b9930e0c",
   "metadata": {
    "scrolled": true
   },
   "outputs": [
    {
     "data": {
      "text/html": [
       "<div>\n",
       "<style scoped>\n",
       "    .dataframe tbody tr th:only-of-type {\n",
       "        vertical-align: middle;\n",
       "    }\n",
       "\n",
       "    .dataframe tbody tr th {\n",
       "        vertical-align: top;\n",
       "    }\n",
       "\n",
       "    .dataframe thead th {\n",
       "        text-align: right;\n",
       "    }\n",
       "</style>\n",
       "<table border=\"1\" class=\"dataframe\">\n",
       "  <thead>\n",
       "    <tr style=\"text-align: right;\">\n",
       "      <th></th>\n",
       "      <th>age</th>\n",
       "      <th>sex</th>\n",
       "      <th>bmi</th>\n",
       "      <th>children</th>\n",
       "      <th>smoker</th>\n",
       "      <th>region</th>\n",
       "      <th>charges</th>\n",
       "    </tr>\n",
       "  </thead>\n",
       "  <tbody>\n",
       "    <tr>\n",
       "      <th>0</th>\n",
       "      <td>19</td>\n",
       "      <td>female</td>\n",
       "      <td>27.900</td>\n",
       "      <td>0</td>\n",
       "      <td>yes</td>\n",
       "      <td>southwest</td>\n",
       "      <td>16884.92400</td>\n",
       "    </tr>\n",
       "    <tr>\n",
       "      <th>1</th>\n",
       "      <td>18</td>\n",
       "      <td>male</td>\n",
       "      <td>33.770</td>\n",
       "      <td>1</td>\n",
       "      <td>no</td>\n",
       "      <td>southeast</td>\n",
       "      <td>1725.55230</td>\n",
       "    </tr>\n",
       "    <tr>\n",
       "      <th>2</th>\n",
       "      <td>28</td>\n",
       "      <td>male</td>\n",
       "      <td>33.000</td>\n",
       "      <td>3</td>\n",
       "      <td>no</td>\n",
       "      <td>southeast</td>\n",
       "      <td>4449.46200</td>\n",
       "    </tr>\n",
       "    <tr>\n",
       "      <th>3</th>\n",
       "      <td>33</td>\n",
       "      <td>male</td>\n",
       "      <td>22.705</td>\n",
       "      <td>0</td>\n",
       "      <td>no</td>\n",
       "      <td>northwest</td>\n",
       "      <td>21984.47061</td>\n",
       "    </tr>\n",
       "    <tr>\n",
       "      <th>4</th>\n",
       "      <td>32</td>\n",
       "      <td>male</td>\n",
       "      <td>28.880</td>\n",
       "      <td>0</td>\n",
       "      <td>no</td>\n",
       "      <td>northwest</td>\n",
       "      <td>3866.85520</td>\n",
       "    </tr>\n",
       "    <tr>\n",
       "      <th>5</th>\n",
       "      <td>31</td>\n",
       "      <td>female</td>\n",
       "      <td>25.740</td>\n",
       "      <td>0</td>\n",
       "      <td>no</td>\n",
       "      <td>southeast</td>\n",
       "      <td>3756.62160</td>\n",
       "    </tr>\n",
       "    <tr>\n",
       "      <th>6</th>\n",
       "      <td>46</td>\n",
       "      <td>female</td>\n",
       "      <td>33.440</td>\n",
       "      <td>1</td>\n",
       "      <td>no</td>\n",
       "      <td>southeast</td>\n",
       "      <td>8240.58960</td>\n",
       "    </tr>\n",
       "    <tr>\n",
       "      <th>7</th>\n",
       "      <td>37</td>\n",
       "      <td>female</td>\n",
       "      <td>27.740</td>\n",
       "      <td>3</td>\n",
       "      <td>no</td>\n",
       "      <td>northwest</td>\n",
       "      <td>7281.50560</td>\n",
       "    </tr>\n",
       "    <tr>\n",
       "      <th>8</th>\n",
       "      <td>37</td>\n",
       "      <td>male</td>\n",
       "      <td>29.830</td>\n",
       "      <td>2</td>\n",
       "      <td>no</td>\n",
       "      <td>northeast</td>\n",
       "      <td>6406.41070</td>\n",
       "    </tr>\n",
       "    <tr>\n",
       "      <th>9</th>\n",
       "      <td>60</td>\n",
       "      <td>female</td>\n",
       "      <td>25.840</td>\n",
       "      <td>0</td>\n",
       "      <td>no</td>\n",
       "      <td>northwest</td>\n",
       "      <td>28923.13692</td>\n",
       "    </tr>\n",
       "  </tbody>\n",
       "</table>\n",
       "</div>"
      ],
      "text/plain": [
       "   age     sex     bmi  children smoker     region      charges\n",
       "0   19  female  27.900         0    yes  southwest  16884.92400\n",
       "1   18    male  33.770         1     no  southeast   1725.55230\n",
       "2   28    male  33.000         3     no  southeast   4449.46200\n",
       "3   33    male  22.705         0     no  northwest  21984.47061\n",
       "4   32    male  28.880         0     no  northwest   3866.85520\n",
       "5   31  female  25.740         0     no  southeast   3756.62160\n",
       "6   46  female  33.440         1     no  southeast   8240.58960\n",
       "7   37  female  27.740         3     no  northwest   7281.50560\n",
       "8   37    male  29.830         2     no  northeast   6406.41070\n",
       "9   60  female  25.840         0     no  northwest  28923.13692"
      ]
     },
     "execution_count": 3,
     "metadata": {},
     "output_type": "execute_result"
    }
   ],
   "source": [
    "df.head(10)"
   ]
  },
  {
   "cell_type": "markdown",
   "id": "0330c4d1",
   "metadata": {},
   "source": [
    "## Cleaning Data"
   ]
  },
  {
   "cell_type": "code",
   "execution_count": 4,
   "id": "6e170972",
   "metadata": {
    "scrolled": true
   },
   "outputs": [
    {
     "name": "stdout",
     "output_type": "stream",
     "text": [
      "<class 'pandas.core.frame.DataFrame'>\n",
      "RangeIndex: 1338 entries, 0 to 1337\n",
      "Data columns (total 7 columns):\n",
      " #   Column    Non-Null Count  Dtype  \n",
      "---  ------    --------------  -----  \n",
      " 0   age       1338 non-null   int64  \n",
      " 1   sex       1338 non-null   object \n",
      " 2   bmi       1338 non-null   float64\n",
      " 3   children  1338 non-null   int64  \n",
      " 4   smoker    1338 non-null   object \n",
      " 5   region    1338 non-null   object \n",
      " 6   charges   1338 non-null   float64\n",
      "dtypes: float64(2), int64(2), object(3)\n",
      "memory usage: 73.3+ KB\n"
     ]
    }
   ],
   "source": [
    "df.info()"
   ]
  },
  {
   "cell_type": "code",
   "execution_count": 5,
   "id": "9b318a06",
   "metadata": {
    "scrolled": true
   },
   "outputs": [
    {
     "data": {
      "text/plain": [
       "age         0\n",
       "sex         0\n",
       "bmi         0\n",
       "children    0\n",
       "smoker      0\n",
       "region      0\n",
       "charges     0\n",
       "dtype: int64"
      ]
     },
     "execution_count": 5,
     "metadata": {},
     "output_type": "execute_result"
    }
   ],
   "source": [
    "#mencari null value\n",
    "df.isnull().sum()"
   ]
  },
  {
   "cell_type": "markdown",
   "id": "4077e26c",
   "metadata": {},
   "source": [
    "Tidak terdapat ``null`` pada data"
   ]
  },
  {
   "cell_type": "code",
   "execution_count": 6,
   "id": "e8d4b673",
   "metadata": {
    "scrolled": true
   },
   "outputs": [
    {
     "data": {
      "text/plain": [
       "1"
      ]
     },
     "execution_count": 6,
     "metadata": {},
     "output_type": "execute_result"
    }
   ],
   "source": [
    "#mencari data duplicate\n",
    "df.duplicated().sum()"
   ]
  },
  {
   "cell_type": "code",
   "execution_count": 7,
   "id": "220b8740",
   "metadata": {},
   "outputs": [],
   "source": [
    "#menghilangkan duplicate value\n",
    "df.drop_duplicates(inplace=True)"
   ]
  },
  {
   "cell_type": "code",
   "execution_count": 8,
   "id": "0e2d4fb5",
   "metadata": {},
   "outputs": [
    {
     "data": {
      "text/plain": [
       "0"
      ]
     },
     "execution_count": 8,
     "metadata": {},
     "output_type": "execute_result"
    }
   ],
   "source": [
    "#mengecek kembali data duplicate\n",
    "df.duplicated().sum()"
   ]
  },
  {
   "cell_type": "markdown",
   "id": "92109e68",
   "metadata": {},
   "source": [
    "Sudah tidak ada data yang ``duplicated``"
   ]
  },
  {
   "cell_type": "markdown",
   "id": "788f98f8",
   "metadata": {},
   "source": [
    "# 1. Analisa Deskriptif Analisis"
   ]
  },
  {
   "cell_type": "code",
   "execution_count": 9,
   "id": "c6386b77",
   "metadata": {
    "scrolled": true
   },
   "outputs": [
    {
     "data": {
      "text/html": [
       "<div>\n",
       "<style scoped>\n",
       "    .dataframe tbody tr th:only-of-type {\n",
       "        vertical-align: middle;\n",
       "    }\n",
       "\n",
       "    .dataframe tbody tr th {\n",
       "        vertical-align: top;\n",
       "    }\n",
       "\n",
       "    .dataframe thead th {\n",
       "        text-align: right;\n",
       "    }\n",
       "</style>\n",
       "<table border=\"1\" class=\"dataframe\">\n",
       "  <thead>\n",
       "    <tr style=\"text-align: right;\">\n",
       "      <th></th>\n",
       "      <th>age</th>\n",
       "      <th>bmi</th>\n",
       "      <th>children</th>\n",
       "      <th>charges</th>\n",
       "    </tr>\n",
       "  </thead>\n",
       "  <tbody>\n",
       "    <tr>\n",
       "      <th>count</th>\n",
       "      <td>1337.000000</td>\n",
       "      <td>1337.000000</td>\n",
       "      <td>1337.000000</td>\n",
       "      <td>1337.000000</td>\n",
       "    </tr>\n",
       "    <tr>\n",
       "      <th>mean</th>\n",
       "      <td>39.222139</td>\n",
       "      <td>30.663452</td>\n",
       "      <td>1.095737</td>\n",
       "      <td>13279.121487</td>\n",
       "    </tr>\n",
       "    <tr>\n",
       "      <th>std</th>\n",
       "      <td>14.044333</td>\n",
       "      <td>6.100468</td>\n",
       "      <td>1.205571</td>\n",
       "      <td>12110.359656</td>\n",
       "    </tr>\n",
       "    <tr>\n",
       "      <th>min</th>\n",
       "      <td>18.000000</td>\n",
       "      <td>15.960000</td>\n",
       "      <td>0.000000</td>\n",
       "      <td>1121.873900</td>\n",
       "    </tr>\n",
       "    <tr>\n",
       "      <th>25%</th>\n",
       "      <td>27.000000</td>\n",
       "      <td>26.290000</td>\n",
       "      <td>0.000000</td>\n",
       "      <td>4746.344000</td>\n",
       "    </tr>\n",
       "    <tr>\n",
       "      <th>50%</th>\n",
       "      <td>39.000000</td>\n",
       "      <td>30.400000</td>\n",
       "      <td>1.000000</td>\n",
       "      <td>9386.161300</td>\n",
       "    </tr>\n",
       "    <tr>\n",
       "      <th>75%</th>\n",
       "      <td>51.000000</td>\n",
       "      <td>34.700000</td>\n",
       "      <td>2.000000</td>\n",
       "      <td>16657.717450</td>\n",
       "    </tr>\n",
       "    <tr>\n",
       "      <th>max</th>\n",
       "      <td>64.000000</td>\n",
       "      <td>53.130000</td>\n",
       "      <td>5.000000</td>\n",
       "      <td>63770.428010</td>\n",
       "    </tr>\n",
       "  </tbody>\n",
       "</table>\n",
       "</div>"
      ],
      "text/plain": [
       "               age          bmi     children       charges\n",
       "count  1337.000000  1337.000000  1337.000000   1337.000000\n",
       "mean     39.222139    30.663452     1.095737  13279.121487\n",
       "std      14.044333     6.100468     1.205571  12110.359656\n",
       "min      18.000000    15.960000     0.000000   1121.873900\n",
       "25%      27.000000    26.290000     0.000000   4746.344000\n",
       "50%      39.000000    30.400000     1.000000   9386.161300\n",
       "75%      51.000000    34.700000     2.000000  16657.717450\n",
       "max      64.000000    53.130000     5.000000  63770.428010"
      ]
     },
     "execution_count": 9,
     "metadata": {},
     "output_type": "execute_result"
    }
   ],
   "source": [
    "df.describe()"
   ]
  },
  {
   "cell_type": "code",
   "execution_count": 10,
   "id": "c67255e6",
   "metadata": {
    "scrolled": false
   },
   "outputs": [
    {
     "data": {
      "text/html": [
       "<div>\n",
       "<style scoped>\n",
       "    .dataframe tbody tr th:only-of-type {\n",
       "        vertical-align: middle;\n",
       "    }\n",
       "\n",
       "    .dataframe tbody tr th {\n",
       "        vertical-align: top;\n",
       "    }\n",
       "\n",
       "    .dataframe thead th {\n",
       "        text-align: right;\n",
       "    }\n",
       "</style>\n",
       "<table border=\"1\" class=\"dataframe\">\n",
       "  <thead>\n",
       "    <tr style=\"text-align: right;\">\n",
       "      <th></th>\n",
       "      <th>sex</th>\n",
       "      <th>smoker</th>\n",
       "      <th>region</th>\n",
       "    </tr>\n",
       "  </thead>\n",
       "  <tbody>\n",
       "    <tr>\n",
       "      <th>count</th>\n",
       "      <td>1337</td>\n",
       "      <td>1337</td>\n",
       "      <td>1337</td>\n",
       "    </tr>\n",
       "    <tr>\n",
       "      <th>unique</th>\n",
       "      <td>2</td>\n",
       "      <td>2</td>\n",
       "      <td>4</td>\n",
       "    </tr>\n",
       "    <tr>\n",
       "      <th>top</th>\n",
       "      <td>male</td>\n",
       "      <td>no</td>\n",
       "      <td>southeast</td>\n",
       "    </tr>\n",
       "    <tr>\n",
       "      <th>freq</th>\n",
       "      <td>675</td>\n",
       "      <td>1063</td>\n",
       "      <td>364</td>\n",
       "    </tr>\n",
       "  </tbody>\n",
       "</table>\n",
       "</div>"
      ],
      "text/plain": [
       "         sex smoker     region\n",
       "count   1337   1337       1337\n",
       "unique     2      2          4\n",
       "top     male     no  southeast\n",
       "freq     675   1063        364"
      ]
     },
     "execution_count": 10,
     "metadata": {},
     "output_type": "execute_result"
    }
   ],
   "source": [
    "df.describe(include=['O'])"
   ]
  },
  {
   "cell_type": "markdown",
   "id": "e44e0e6f",
   "metadata": {},
   "source": [
    "### a. Berapa rata-rata umur pada data?"
   ]
  },
  {
   "cell_type": "code",
   "execution_count": 11,
   "id": "9ef2c857",
   "metadata": {},
   "outputs": [
    {
     "name": "stdout",
     "output_type": "stream",
     "text": [
      "Rata-rata umur pada data adalah 39 tahun\n"
     ]
    }
   ],
   "source": [
    "# menghitung rata-rata umur\n",
    "mean_age = df[\"age\"].mean()\n",
    "\n",
    "print(f\"Rata-rata umur pada data adalah {mean_age:.0f} tahun\")"
   ]
  },
  {
   "cell_type": "code",
   "execution_count": 12,
   "id": "1b01f6d9",
   "metadata": {},
   "outputs": [
    {
     "data": {
      "image/png": "[encoded data removed]",
      "text/plain": [
       "<Figure size 720x432 with 1 Axes>"
      ]
     },
     "metadata": {
      "needs_background": "light"
     },
     "output_type": "display_data"
    }
   ],
   "source": [
    "# Visualisasi dengan Matplotlib\n",
    "plt.figure(figsize=(10,6))\n",
    "plt.hist(df['age'], bins=10, edgecolor='black')\n",
    "plt.axvline(mean_age, color='red', linestyle='dashed', linewidth=1.5, label='Rata-Rata Umur')\n",
    "plt.xlabel('Age')\n",
    "plt.ylabel('Count')\n",
    "plt.title('Distribusi Umur')\n",
    "plt.legend()\n",
    "#plt.savefig(\"img/distribusi-umur.jpeg\")\n",
    "plt.show()"
   ]
  },
  {
   "cell_type": "markdown",
   "id": "2e846b7c",
   "metadata": {},
   "source": [
    "### b. Berapa rata-rata nilai BMI dari yang merokok?\n"
   ]
  },
  {
   "cell_type": "code",
   "execution_count": 13,
   "id": "864a86cb",
   "metadata": {},
   "outputs": [
    {
     "name": "stdout",
     "output_type": "stream",
     "text": [
      "Rata-rata nilai BMI dari yang merokok: 30.71\n"
     ]
    }
   ],
   "source": [
    "# Menghitung rata-rata nilai BMI dari yang merokok\n",
    "average_bmi_smokers = df[df['smoker'] == 'yes']['bmi'].mean()\n",
    "\n",
    "print(f\"Rata-rata nilai BMI dari yang merokok: {average_bmi_smokers:.2f}\")"
   ]
  },
  {
   "cell_type": "code",
   "execution_count": 14,
   "id": "7fdf127d",
   "metadata": {},
   "outputs": [
    {
     "data": {
      "image/png": "[encoded data removed]",
      "text/plain": [
       "<Figure size 720x432 with 1 Axes>"
      ]
     },
     "metadata": {
      "needs_background": "light"
     },
     "output_type": "display_data"
    }
   ],
   "source": [
    "# Visualisasi dengan Seaborn\n",
    "plt.figure(figsize=(10,6))\n",
    "sns.histplot(data=df[df['smoker'] == 'yes'], x='bmi', kde=True)\n",
    "plt.axvline(average_bmi_smokers, color='red', linestyle='dashed', linewidth=1.5, label='Rata-Rata BMI')\n",
    "plt.xlabel('BMI')\n",
    "plt.ylabel('Count')\n",
    "plt.title('Distribution of BMI (Smokers)')\n",
    "plt.legend()\n",
    "#plt.savefig(\"img/distribusi-bmi.jpeg\")\n",
    "plt.show()"
   ]
  },
  {
   "cell_type": "markdown",
   "id": "1e84785d",
   "metadata": {},
   "source": [
    "### c. Apakah median dan varians dari tagihan kesehatan perokok dan non perokok sama?"
   ]
  },
  {
   "cell_type": "code",
   "execution_count": 15,
   "id": "5a9e372a",
   "metadata": {},
   "outputs": [
    {
     "name": "stdout",
     "output_type": "stream",
     "text": [
      "Median tagihan kesehatan perokok: 34456.35\n",
      "Varians tagihan kesehatan perokok: 133207311.21\n",
      "--------------------------------------------------\n",
      "Median tagihan kesehatan non perokok: 7345.73\n",
      "Varians tagihan kesehatan non perokok: 35915734.97\n",
      "--------------------------------------------------\n",
      "Apakah median sama? False\n",
      "Apakah varians sama? False\n"
     ]
    }
   ],
   "source": [
    "# Menghitung median dan varians dari tagihan kesehatan perokok\n",
    "median_smokers = df[df['smoker'] == 'yes']['charges'].median()\n",
    "variance_smokers = df[df['smoker'] == 'yes']['charges'].var()\n",
    "\n",
    "# Menghitung median dan varians dari tagihan kesehatan non perokok\n",
    "median_non_smokers = df[df['smoker'] == 'no']['charges'].median()\n",
    "variance_non_smokers = df[df['smoker'] == 'no']['charges'].var()\n",
    "\n",
    "print(f\"Median tagihan kesehatan perokok: {median_smokers:.2f}\")\n",
    "print(f\"Varians tagihan kesehatan perokok: {variance_smokers:.2f}\")\n",
    "print(\"--\" * 25)\n",
    "print(f\"Median tagihan kesehatan non perokok: {median_non_smokers:.2f}\")\n",
    "print(f\"Varians tagihan kesehatan non perokok: {variance_non_smokers:.2f}\")\n",
    "print(\"--\" * 25)\n",
    "print(\"Apakah median sama?\", median_smokers == median_non_smokers)\n",
    "print(\"Apakah varians sama?\", variance_smokers == variance_non_smokers)"
   ]
  },
  {
   "cell_type": "code",
   "execution_count": 16,
   "id": "58e9ef85",
   "metadata": {},
   "outputs": [
    {
     "data": {
      "image/png": "[encoded data removed]",
      "text/plain": [
       "<Figure size 432x432 with 1 Axes>"
      ]
     },
     "metadata": {
      "needs_background": "light"
     },
     "output_type": "display_data"
    }
   ],
   "source": [
    "fig, ax = plt.subplots(figsize=(6, 6))\n",
    "\n",
    "# Visualisasi menggunakan boxplot\n",
    "sns.boxplot(x='smoker', y='charges', data=df, ax=ax)\n",
    "\n",
    "# Menambahkan label\n",
    "plt.xlabel('Smoker')\n",
    "plt.ylabel('Charges')\n",
    "plt.title('Variasi Tagihan Kesehatan')\n",
    "\n",
    "#plt.savefig(\"img/variasi-tagihan.jpeg\")\n",
    "# Menampilkan plot\n",
    "plt.show()"
   ]
  },
  {
   "cell_type": "markdown",
   "id": "b1148514",
   "metadata": {},
   "source": [
    "### d. Apakah rata-rata umur perempuan dan laki-laki yang merokok sama?"
   ]
  },
  {
   "cell_type": "code",
   "execution_count": 17,
   "id": "4a76b5d7",
   "metadata": {},
   "outputs": [
    {
     "name": "stdout",
     "output_type": "stream",
     "text": [
      "Rata-rata umur perempuan yang merokok: 38.61\n",
      "Rata-rata umur laki-laki yang merokok: 38.45\n",
      "Apakah rata-rata umur sama? False\n"
     ]
    }
   ],
   "source": [
    "# Menghitung rata-rata umur perempuan yang merokok\n",
    "mean_female_smokers = df[(df['sex'] == 'female') & (df['smoker'] == 'yes')]['age'].mean()\n",
    "\n",
    "# Menghitung rata-rata umur laki-laki yang merokok\n",
    "mean_male_smokers = df[(df['sex'] == 'male') & (df['smoker'] == 'yes')]['age'].mean()\n",
    "\n",
    "print(f\"Rata-rata umur perempuan yang merokok: {mean_female_smokers:.2f}\")\n",
    "print(f\"Rata-rata umur laki-laki yang merokok: {mean_male_smokers:.2f}\")\n",
    "print(\"Apakah rata-rata umur sama?\", mean_female_smokers == mean_male_smokers)"
   ]
  },
  {
   "cell_type": "code",
   "execution_count": 18,
   "id": "0838b23f",
   "metadata": {},
   "outputs": [
    {
     "data": {
      "image/png": "[encoded data removed]",
      "text/plain": [
       "<Figure size 432x288 with 1 Axes>"
      ]
     },
     "metadata": {
      "needs_background": "light"
     },
     "output_type": "display_data"
    }
   ],
   "source": [
    "# Membuat bar plot\n",
    "plt.figure(figsize=(6,4))\n",
    "plt.bar(['Perempuan', 'Laki-laki'], [mean_female_smokers, mean_male_smokers])\n",
    "plt.ylim(0,45)\n",
    "plt.xlabel('Gender')\n",
    "plt.ylabel('Rata-Rata Umur')\n",
    "plt.title('Rata-Rata Umur Perokok by Gender')\n",
    "\n",
    "# Menambahkan label nilai di atas setiap bar\n",
    "plt.text(0, mean_female_smokers, '{:.2f}'.format(mean_female_smokers), ha='center', va='bottom')\n",
    "plt.text(1, mean_male_smokers, '{:.2f}'.format(mean_male_smokers), ha='center', va='bottom')\n",
    "\n",
    "#plt.savefig(\"img/mean-perokok-bygender.jpeg\")\n",
    "plt.show()\n"
   ]
  },
  {
   "cell_type": "markdown",
   "id": "0d2b9252",
   "metadata": {},
   "source": [
    "### e. Mana yang lebih tinggi, rata-rata tagihan kesehatan perokok atau non perokok?"
   ]
  },
  {
   "cell_type": "code",
   "execution_count": 19,
   "id": "70120890",
   "metadata": {},
   "outputs": [
    {
     "name": "stdout",
     "output_type": "stream",
     "text": [
      "Rata-rata tagihan kesehatan perokok: 32050.23\n",
      "Rata-rata tagihan kesehatan non perokok: 8440.66\n",
      "Rata-rata tagihan kesehatan perokok lebih tinggi\n"
     ]
    }
   ],
   "source": [
    "# Menghitung rata-rata tagihan kesehatan perokok\n",
    "mean_smokers = df[df['smoker'] == 'yes']['charges'].mean()\n",
    "\n",
    "# Menghitung rata-rata tagihan kesehatan non perokok\n",
    "mean_non_smokers = df[df['smoker'] == 'no']['charges'].mean()\n",
    "\n",
    "print(f\"Rata-rata tagihan kesehatan perokok: {mean_smokers:.2f}\")\n",
    "print(f\"Rata-rata tagihan kesehatan non perokok: {mean_non_smokers:.2f}\")\n",
    "\n",
    "if mean_smokers > mean_non_smokers:\n",
    "    print(\"Rata-rata tagihan kesehatan perokok lebih tinggi\")\n",
    "elif mean_smokers < mean_non_smokers:\n",
    "    print(\"Rata-rata tagihan kesehatan non perokok lebih tinggi\")\n",
    "else:\n",
    "    print(\"Rata-rata tagihan kesehatan perokok dan non perokok sama\")\n"
   ]
  },
  {
   "cell_type": "code",
   "execution_count": 20,
   "id": "c4acf8e0",
   "metadata": {},
   "outputs": [
    {
     "data": {
      "image/png": "[encoded data removed]",
      "text/plain": [
       "<Figure size 432x288 with 1 Axes>"
      ]
     },
     "metadata": {
      "needs_background": "light"
     },
     "output_type": "display_data"
    }
   ],
   "source": [
    "# Membuat bar plot\n",
    "plt.figure(figsize=(6,4))\n",
    "plt.bar(['Perokok', 'Non Perokok'], [mean_smokers, mean_non_smokers])\n",
    "plt.ylabel('Tagihan')\n",
    "plt.title('Rata-Rata Tagihan Perokok dan Non Perokok')\n",
    "plt.ylim([0, max(mean_smokers, mean_non_smokers) * 1.2])\n",
    "\n",
    "# Menambahkan label nilai di atas setiap bar\n",
    "plt.text(0, mean_smokers, '{:.2f}'.format(mean_smokers), ha='center', va='bottom')\n",
    "plt.text(1, mean_non_smokers, '{:.2f}'.format(mean_non_smokers), ha='center', va='bottom')\n",
    "\n",
    "#plt.savefig(\"img/mean-perokok-non.jpeg\")\n",
    "plt.show()"
   ]
  },
  {
   "cell_type": "markdown",
   "id": "160ad16e",
   "metadata": {},
   "source": [
    "### f. Mana yang lebih tinggi, rata-rata tagihan kesehatan perokok yang BMI-nya diatas 25 (overweight) atau non perokok yang BMI-nya diatas 25 (overweight)?"
   ]
  },
  {
   "cell_type": "code",
   "execution_count": 21,
   "id": "efd35088",
   "metadata": {
    "scrolled": true
   },
   "outputs": [
    {
     "name": "stdout",
     "output_type": "stream",
     "text": [
      "Rata-rata tagihan kesehatan perokok dengan BMI di atas 25: 35116.91\n",
      "Rata-rata tagihan kesehatan non perokok dengan BMI di atas 25: 8637.61\n",
      "Rata-rata tagihan kesehatan perokok dengan BMI di atas 25 lebih tinggi\n"
     ]
    }
   ],
   "source": [
    "# Menghitung rata-rata tagihan kesehatan perokok dengan BMI di atas 25\n",
    "mean_smokers_overweight = df[(df['smoker'] == 'yes') & (df['bmi'] > 25)]['charges'].mean()\n",
    "\n",
    "# Menghitung rata-rata tagihan kesehatan non perokok dengan BMI di atas 25\n",
    "mean_non_smokers_overweight = df[(df['smoker'] == 'no') & (df['bmi'] > 25)]['charges'].mean()\n",
    "\n",
    "print(f\"Rata-rata tagihan kesehatan perokok dengan BMI di atas 25: {mean_smokers_overweight:.2f}\")\n",
    "print(f\"Rata-rata tagihan kesehatan non perokok dengan BMI di atas 25: {mean_non_smokers_overweight:.2f}\")\n",
    "\n",
    "if mean_smokers_overweight > mean_non_smokers_overweight:\n",
    "    print(\"Rata-rata tagihan kesehatan perokok dengan BMI di atas 25 lebih tinggi\")\n",
    "elif mean_smokers_overweight < mean_non_smokers_overweight:\n",
    "    print(\"Rata-rata tagihan kesehatan non perokok dengan BMI di atas 25 lebih tinggi\")\n",
    "else:\n",
    "    print(\"Rata-rata tagihan kesehatan perokok dengan BMI di atas 25 dan non perokok dengan BMI di atas 25 sama\")"
   ]
  },
  {
   "cell_type": "code",
   "execution_count": 22,
   "id": "ece11c25",
   "metadata": {},
   "outputs": [
    {
     "data": {
      "image/png": "[encoded data removed]",
      "text/plain": [
       "<Figure size 432x288 with 1 Axes>"
      ]
     },
     "metadata": {
      "needs_background": "light"
     },
     "output_type": "display_data"
    }
   ],
   "source": [
    "# Membuat bar plot\n",
    "plt.figure(figsize=(6,4))\n",
    "plt.bar(['Smoker Overweight', 'Non-Smoker Overweight'], [mean_smokers_overweight, mean_non_smokers_overweight])\n",
    "plt.xlabel('Smoking Status')\n",
    "plt.ylabel('Average Charges')\n",
    "plt.title('Average Healthcare Charges for Overweight Individuals')\n",
    "plt.ylim([0, max(mean_smokers_overweight, mean_non_smokers_overweight) * 1.2])\n",
    "\n",
    "# Menambahkan label nilai di atas setiap bar\n",
    "plt.text(0, mean_smokers_overweight, '{:.2f}'.format(mean_smokers_overweight), ha='center', va='bottom')\n",
    "plt.text(1, mean_non_smokers_overweight, '{:.2f}'.format(mean_non_smokers_overweight), ha='center', va='bottom')\n",
    "\n",
    "#plt.savefig(\"img/mean-tagihan-overweight.jpeg\")\n",
    "plt.show()\n"
   ]
  },
  {
   "cell_type": "markdown",
   "id": "cda849e2",
   "metadata": {},
   "source": [
    "# 2. Analisis Variabel Diskrit"
   ]
  },
  {
   "cell_type": "markdown",
   "id": "50f9fbd1",
   "metadata": {},
   "source": [
    "### a. Gender mana yang memiliki tagihan paling tinggi"
   ]
  },
  {
   "cell_type": "code",
   "execution_count": 23,
   "id": "60e3efbe",
   "metadata": {
    "scrolled": true
   },
   "outputs": [
    {
     "name": "stdout",
     "output_type": "stream",
     "text": [
      "Gender dengan tagihan paling tinggi adalah: female\n"
     ]
    }
   ],
   "source": [
    "# Menghitung tagihan maksimum berdasarkan gender\n",
    "tagihan_maksimum = df.groupby('sex')['charges'].max()\n",
    "gender_tertinggi = tagihan_maksimum.idxmax()\n",
    "\n",
    "print(f\"Gender dengan tagihan paling tinggi adalah: {gender_tertinggi}\")"
   ]
  },
  {
   "cell_type": "code",
   "execution_count": 24,
   "id": "bb95e32e",
   "metadata": {},
   "outputs": [
    {
     "data": {
      "image/png": "[encoded data removed]",
      "text/plain": [
       "<Figure size 432x288 with 1 Axes>"
      ]
     },
     "metadata": {
      "needs_background": "light"
     },
     "output_type": "display_data"
    }
   ],
   "source": [
    "# Membuat bar plot\n",
    "plt.figure(figsize=(6,4))\n",
    "plt.bar(tagihan_maksimum.index, tagihan_maksimum.values)\n",
    "plt.xlabel('Gender')\n",
    "plt.ylabel('Tagihan')\n",
    "plt.title('Tagihan Tertinggi by Gender')\n",
    "plt.ylim([0, max(tagihan_maksimum.values) * 1.2 ])\n",
    "\n",
    "# Menambahkan label nilai di atas setiap bar\n",
    "for i, value in enumerate(tagihan_maksimum.values):\n",
    "    plt.text(i, value, str(value), ha='center', va='bottom')\n",
    "\n",
    "#plt.savefig(\"img/tagihan-bygender.jpeg\")\n",
    "plt.show()"
   ]
  },
  {
   "cell_type": "markdown",
   "id": "1bc4e8f4",
   "metadata": {},
   "source": [
    "### b. Distribusi tagihan di tiap-tiap region"
   ]
  },
  {
   "cell_type": "code",
   "execution_count": 25,
   "id": "97e992ee",
   "metadata": {},
   "outputs": [
    {
     "data": {
      "image/png": "[encoded data removed]",
      "text/plain": [
       "<Figure size 432x288 with 1 Axes>"
      ]
     },
     "metadata": {
      "needs_background": "light"
     },
     "output_type": "display_data"
    }
   ],
   "source": [
    "sns.histplot(data=df, x='charges', hue='region', multiple='stack', kde=True)\n",
    "plt.xlabel('Charges')\n",
    "plt.ylabel('Count')\n",
    "plt.title('Distribution of Healthcare Charges by Region')\n",
    "#plt.savefig(\"img/distribusi-tagihan.jpeg\")\n",
    "plt.show()"
   ]
  },
  {
   "cell_type": "markdown",
   "id": "3da6c764",
   "metadata": {},
   "source": [
    "### c. Apakah setiap region memiliki proporsi data banyak orang yang sama?"
   ]
  },
  {
   "cell_type": "code",
   "execution_count": 26,
   "id": "8d3c40c8",
   "metadata": {
    "scrolled": true
   },
   "outputs": [
    {
     "name": "stdout",
     "output_type": "stream",
     "text": [
      "southeast    0.272251\n",
      "southwest    0.243082\n",
      "northeast    0.242334\n",
      "northwest    0.242334\n",
      "Name: region, dtype: float64\n"
     ]
    }
   ],
   "source": [
    "# Menghitung jumlah data dalam setiap region\n",
    "region_counts = df['region'].value_counts()\n",
    "\n",
    "# Menampilkan proporsi data dalam setiap region\n",
    "proportions = region_counts / len(df)\n",
    "print(proportions)"
   ]
  },
  {
   "cell_type": "code",
   "execution_count": 27,
   "id": "d4191738",
   "metadata": {},
   "outputs": [
    {
     "data": {
      "image/png": "[encoded data removed]",
      "text/plain": [
       "<Figure size 432x432 with 1 Axes>"
      ]
     },
     "metadata": {},
     "output_type": "display_data"
    }
   ],
   "source": [
    "# Memvisualisasikan proporsi data dalam setiap region\n",
    "plt.figure(figsize=(6,6))\n",
    "plt.pie(region_counts, labels=region_counts.index, autopct='%1.1f%%')\n",
    "plt.title('Proportion of Data by Region')\n",
    "#plt.savefig(\"img/proporsi-region.jpeg\")\n",
    "plt.show()"
   ]
  },
  {
   "cell_type": "markdown",
   "id": "1d7e0bd7",
   "metadata": {},
   "source": [
    "### d. Mana yang lebih tinggi proporsi perokok atau non perokok?"
   ]
  },
  {
   "cell_type": "code",
   "execution_count": 28,
   "id": "1a89d329",
   "metadata": {},
   "outputs": [
    {
     "name": "stdout",
     "output_type": "stream",
     "text": [
      "no     0.795064\n",
      "yes    0.204936\n",
      "Name: smoker, dtype: float64\n"
     ]
    }
   ],
   "source": [
    "# Menghitung jumlah individu perokok dan non-perokok\n",
    "smoker_counts = df['smoker'].value_counts()\n",
    "\n",
    "# Menampilkan proporsi perokok dan non-perokok\n",
    "proportions = smoker_counts / len(df)\n",
    "print(proportions)"
   ]
  },
  {
   "cell_type": "code",
   "execution_count": 29,
   "id": "69280a38",
   "metadata": {},
   "outputs": [
    {
     "data": {
      "image/png": "[encoded data removed]",
      "text/plain": [
       "<Figure size 432x432 with 1 Axes>"
      ]
     },
     "metadata": {},
     "output_type": "display_data"
    }
   ],
   "source": [
    "# Memvisualisasikan proporsi perokok dan non-perokok\n",
    "plt.figure(figsize=(6,6))\n",
    "plt.pie(smoker_counts, labels=smoker_counts.index, autopct='%1.1f%%')\n",
    "plt.title('Proportion of Smokers and Non-Smokers')\n",
    "#plt.savefig(\"img/proporsi-perokok.jpeg\")\n",
    "plt.show()"
   ]
  },
  {
   "cell_type": "markdown",
   "id": "bc04ece7",
   "metadata": {},
   "source": [
    "### e. Berapa peluang seseorang tersebut adalah perempuan jika diketahui dia adalah perokok?"
   ]
  },
  {
   "cell_type": "code",
   "execution_count": 30,
   "id": "90dc945d",
   "metadata": {},
   "outputs": [
    {
     "name": "stdout",
     "output_type": "stream",
     "text": [
      "Jumlah perokok perempuan: 115\n",
      "Jumlah total perokok: 274\n",
      "Peluang seseorang adalah perempuan jika diketahui dia adalah perokok: 0.42\n"
     ]
    }
   ],
   "source": [
    "# Menghitung jumlah individu perokok yang perempuan\n",
    "perokok_perempuan = df[(df['smoker'] == 'yes') & (df['sex'] == 'female')].shape[0]\n",
    "print(f\"Jumlah perokok perempuan: {perokok_perempuan}\")\n",
    "\n",
    "# Menghitung total jumlah individu perokok\n",
    "total_perokok = df[df['smoker'] == 'yes'].shape[0]\n",
    "print(f\"Jumlah total perokok: {total_perokok}\")\n",
    "\n",
    "# Menghitung peluang seseorang adalah perempuan jika diketahui dia adalah perokok\n",
    "peluang_perempuan_perokok = perokok_perempuan / total_perokok\n",
    "\n",
    "print(f\"Peluang seseorang adalah perempuan jika diketahui dia adalah perokok: {peluang_perempuan_perokok:.2f}\")"
   ]
  },
  {
   "cell_type": "markdown",
   "id": "46d05d80",
   "metadata": {},
   "source": [
    "### f. Berapa peluang seseorang tersebut adalah laki-laki jika diketahui dia adalah perokok?"
   ]
  },
  {
   "cell_type": "code",
   "execution_count": 31,
   "id": "7cc35cef",
   "metadata": {},
   "outputs": [
    {
     "name": "stdout",
     "output_type": "stream",
     "text": [
      "Jumlah perokok laki-laki: 159\n",
      "Jumlah total perokok: 274\n",
      "Peluang seseorang adalah perempuan jika diketahui dia adalah perokok: 0.58\n"
     ]
    }
   ],
   "source": [
    "# Menghitung jumlah individu perokok yang perempuan\n",
    "perokok_laki_laki = df[(df['smoker'] == 'yes') & (df['sex'] == 'male')].shape[0]\n",
    "print(f\"Jumlah perokok laki-laki: {perokok_laki_laki}\")\n",
    "\n",
    "# Menghitung total jumlah individu perokok\n",
    "total_perokok = df[df['smoker'] == 'yes'].shape[0]\n",
    "print(f\"Jumlah total perokok: {total_perokok}\")\n",
    "\n",
    "# Menghitung peluang seseorang adalah perempuan jika diketahui dia adalah perokok\n",
    "peluang_perempuan_perokok = perokok_laki_laki / total_perokok\n",
    "\n",
    "print(f\"Peluang seseorang adalah perempuan jika diketahui dia adalah perokok: {peluang_perempuan_perokok:.2f}\")"
   ]
  },
  {
   "cell_type": "markdown",
   "id": "c45bf1ab",
   "metadata": {},
   "source": [
    "# 3. Analisa Variabel kontinu"
   ]
  },
  {
   "cell_type": "markdown",
   "id": "ad93d561",
   "metadata": {},
   "source": [
    "### a. Mana yang lebih mungkin terjadi:\n",
    "### 1) Seseorang dengan BMI diatas 25 mendapatkan tagihan kesehatan diatas 16,7k, atau\n",
    "### 2) Seseorang dengan BMI dibawah 25 mendapatkan tagihan kesehatan diatas 16,7k"
   ]
  },
  {
   "cell_type": "markdown",
   "id": "ac54ceaa",
   "metadata": {},
   "source": [
    "Untuk menentukan mana yang lebih mungkin terjadi antara dua kondisi yang diberikan, kita dapat menghitung proporsi data yang memenuhi setiap kondisi. Berikut adalah contoh kode untuk menghitung proporsi data yang memenuhi setiap kondisi:"
   ]
  },
  {
   "cell_type": "code",
   "execution_count": 32,
   "id": "a5635ad2",
   "metadata": {},
   "outputs": [
    {
     "name": "stdout",
     "output_type": "stream",
     "text": [
      "Proporsi data dengan BMI di atas 25 dan tagihan di atas 16.7k: 0.21\n",
      "Proporsi data dengan BMI di bawah 25 dan tagihan di atas 16.7k: 0.04\n"
     ]
    }
   ],
   "source": [
    "# Menghitung proporsi data dengan BMI di atas 25 dan tagihan di atas 16.7k\n",
    "proporsi_overweight = len(df[(df['bmi'] > 25) & (df['charges'] > 16700)]) / len(df)\n",
    "\n",
    "# Menghitung proporsi data dengan BMI di bawah 25 dan tagihan di atas 16.7k\n",
    "proporsi_normal_weight = len(df[(df['bmi'] < 25) & (df['charges'] > 16700)]) / len(df)\n",
    "\n",
    "print(f\"Proporsi data dengan BMI di atas 25 dan tagihan di atas 16.7k: {proporsi_overweight:.2f}\")\n",
    "print(f\"Proporsi data dengan BMI di bawah 25 dan tagihan di atas 16.7k: {proporsi_normal_weight:.2f}\")"
   ]
  },
  {
   "cell_type": "code",
   "execution_count": 33,
   "id": "25e29c96",
   "metadata": {},
   "outputs": [
    {
     "data": {
      "image/png": "[encoded data removed]",
      "text/plain": [
       "<Figure size 432x288 with 1 Axes>"
      ]
     },
     "metadata": {
      "needs_background": "light"
     },
     "output_type": "display_data"
    }
   ],
   "source": [
    "labels = ['Overweight', 'Normal Weight']\n",
    "sizes = [proporsi_overweight, proporsi_normal_weight]\n",
    "x = range(len(labels))\n",
    "\n",
    "plt.figure(figsize=(6,4))\n",
    "plt.bar(x, sizes)\n",
    "plt.xticks(x, labels)\n",
    "plt.ylabel('Proporsi')\n",
    "plt.title('Proporsi Overweight vs Normal Weight dengan tagihan diatas 16.7k')\n",
    "\n",
    "plt.text(0, proporsi_overweight, '{:.2f}'.format(proporsi_overweight), ha='center', va='bottom')\n",
    "plt.text(1, proporsi_normal_weight, '{:.2f}'.format(proporsi_normal_weight), ha='center', va='bottom')\n",
    "\n",
    "#plt.savefig(\"img/proporsi-overweight-tagihan-tinggi.jpeg\")\n",
    "plt.show()"
   ]
  },
  {
   "cell_type": "markdown",
   "id": "5f185143",
   "metadata": {},
   "source": [
    "**proporsi_overweight lebih tinggi, maka kondisi \"seseorang dengan BMI diatas 25 mendapatkan tagihan kesehatan diatas 16,7k\" lebih mungkin terjadi.**"
   ]
  },
  {
   "cell_type": "markdown",
   "id": "ebe883ad",
   "metadata": {},
   "source": [
    "### b. Mana yang lebih mungkin terjadi:\n",
    "### 1) Seseorang perokok mendapatkan tagihan kesehatan diatas 16,7k, atau\n",
    "### 2) Seseorang non perokok  mendapatkan tagihan kesehatan diatas 16,7k"
   ]
  },
  {
   "cell_type": "markdown",
   "id": "74aa4ebd",
   "metadata": {},
   "source": [
    "Untuk menentukan mana yang lebih mungkin terjadi antara dua kondisi yang diberikan, kita dapat menghitung proporsi data yang memenuhi setiap kondisi. Berikut adalah contoh kode untuk menghitung proporsi data yang memenuhi setiap kondisi:"
   ]
  },
  {
   "cell_type": "code",
   "execution_count": 34,
   "id": "1bc974c9",
   "metadata": {},
   "outputs": [
    {
     "name": "stdout",
     "output_type": "stream",
     "text": [
      "Proporsi data perokok dan tagihan di atas 16.7k: 0.19\n",
      "Proporsi data non perokok dan tagihan di atas 16.7k: 0.06\n"
     ]
    }
   ],
   "source": [
    "# Menghitung proporsi data dengan BMI di atas 25 dan tagihan di atas 16.7k\n",
    "smokers_a = len(df[(df['smoker'] == 'yes') & (df['charges'] > 16700)]) / len(df)\n",
    "\n",
    "# Menghitung proporsi data dengan BMI di bawah 25 dan tagihan di atas 16.7k\n",
    "non_smokers_b = len(df[(df['smoker'] == 'no') & (df['charges'] > 16700)]) / len(df)\n",
    "\n",
    "print(f\"Proporsi data perokok dan tagihan di atas 16.7k: {smokers_a:.2f}\")\n",
    "print(f\"Proporsi data non perokok dan tagihan di atas 16.7k: {non_smokers_b:.2f}\")"
   ]
  },
  {
   "cell_type": "code",
   "execution_count": 35,
   "id": "39077bff",
   "metadata": {},
   "outputs": [
    {
     "data": {
      "image/png": "[encoded data removed]",
      "text/plain": [
       "<Figure size 432x288 with 1 Axes>"
      ]
     },
     "metadata": {
      "needs_background": "light"
     },
     "output_type": "display_data"
    }
   ],
   "source": [
    "labels = ['Perokok', 'Non Perokok']\n",
    "sizes = [smokers_a, non_smokers_b]\n",
    "x = range(len(labels))\n",
    "\n",
    "plt.figure(figsize=(6,4))\n",
    "plt.bar(x, sizes)\n",
    "plt.xticks(x, labels)\n",
    "plt.ylabel('Proporsi')\n",
    "plt.title('Proporsi Perokok vs Non Perokok dengan tagihan diatas 16.7k')\n",
    "\n",
    "plt.text(0, smokers_a, '{:.2f}'.format(smokers_a), ha='center', va='bottom')\n",
    "plt.text(1, non_smokers_b, '{:.2f}'.format(non_smokers_b), ha='center', va='bottom')\n",
    "\n",
    "#plt.savefig(\"img/proporsi-perokok-tagihan-tinggi.jpeg\")\n",
    "\n",
    "plt.show()"
   ]
  },
  {
   "cell_type": "markdown",
   "id": "8c49bfe1",
   "metadata": {},
   "source": [
    "**proporsi pertama lebih tinggi, maka kondisi \"seseorang perokok mendapatkan tagihan kesehatan diatas 16,7k\" lebih mungkin terjadi.**"
   ]
  },
  {
   "cell_type": "markdown",
   "id": "9078d702",
   "metadata": {},
   "source": [
    "# 4. Analisa Korelasi Variabel\n"
   ]
  },
  {
   "cell_type": "markdown",
   "id": "66c6ab20",
   "metadata": {},
   "source": [
    "### Korelasi antara Tagihan dengan variabel usia (age), gender (sex), BMI (bmi), dan jumlah anak (children)."
   ]
  },
  {
   "cell_type": "code",
   "execution_count": 36,
   "id": "884fe039",
   "metadata": {
    "scrolled": false
   },
   "outputs": [
    {
     "data": {
      "image/png": "[encoded data removed]",
      "text/plain": [
       "<Figure size 432x288 with 2 Axes>"
      ]
     },
     "metadata": {
      "needs_background": "light"
     },
     "output_type": "display_data"
    }
   ],
   "source": [
    "# Menghitung korelasi antara tagihan dan variabel-variabel lainnya\n",
    "correlation = df[['age', 'sex', 'bmi', 'children', 'smoker', 'charges']].corr()\n",
    "\n",
    "# Memvisualisasikan korelasi dengan heatmap\n",
    "sns.heatmap(correlation, annot=True, cmap='coolwarm')\n",
    "plt.title('Correlation Heatmap')\n",
    "#plt.savefig(\"img/korelasi-heatmap.jpeg\")\n",
    "plt.show()"
   ]
  },
  {
   "cell_type": "markdown",
   "id": "b87d4bbe",
   "metadata": {},
   "source": [
    "Semua bekorelasi positif. Namun, memiliki nilai yag berbeda-beda"
   ]
  },
  {
   "cell_type": "markdown",
   "id": "350afad9",
   "metadata": {},
   "source": [
    "# 5. Pengujian Hipotesis"
   ]
  },
  {
   "cell_type": "markdown",
   "id": "b53cf21e",
   "metadata": {},
   "source": [
    "### a. Tagihan kesehatan perokok lebih tinggi daripada tagihan kesehatan non perokok"
   ]
  },
  {
   "cell_type": "code",
   "execution_count": 37,
   "id": "192d56bb",
   "metadata": {
    "scrolled": true
   },
   "outputs": [
    {
     "name": "stdout",
     "output_type": "stream",
     "text": [
      "P-value: 1.4067220949376498e-282\n",
      "------------------------------------\n",
      "alpha: 0.05\n",
      "------------------------------------\n",
      "Menolak hipotesis nol. Terdapat perbedaan signifikan antara tagihan kesehatan perokok dan non perokok.\n"
     ]
    }
   ],
   "source": [
    "# Memisahkan tagihan perokok dan non perokok\n",
    "tagihan_perokok = df[df['smoker'] == 'yes']['charges']\n",
    "tagihan_non_perokok = df[df['smoker'] == 'no']['charges']\n",
    "\n",
    "# Melakukan uji t\n",
    "t_statistic, p_value = stats.ttest_ind(tagihan_perokok, tagihan_non_perokok)\n",
    "print(\"P-value:\", p_value)\n",
    "print(\"---\" * 12)\n",
    "\n",
    "# Menentukan apakah menolak atau menerima hipotesis nol\n",
    "alpha = 0.05\n",
    "print(\"alpha:\", alpha)\n",
    "print(\"---\" * 12)\n",
    "\n",
    "if p_value < alpha:\n",
    "    print(\"Menolak hipotesis nol. Terdapat perbedaan signifikan antara tagihan kesehatan perokok dan non perokok.\")\n",
    "else:\n",
    "    print(\"Menerima hipotesis nol. Tidak terdapat perbedaan signifikan antara tagihan kesehatan perokok dan non perokok.\")"
   ]
  },
  {
   "cell_type": "markdown",
   "id": "8db88172",
   "metadata": {},
   "source": [
    "### b. Proporsi perokok laki-laki lebih besar daripada perempuan"
   ]
  },
  {
   "cell_type": "code",
   "execution_count": 38,
   "id": "e31bba0a",
   "metadata": {},
   "outputs": [
    {
     "name": "stdout",
     "output_type": "stream",
     "text": [
      "P-value: 0.0062765550120107375\n",
      "------------------------------------\n",
      "alpha: 0.05\n",
      "------------------------------------\n",
      "Menolak H0. Proporsi perokok laki-laki lebih besar daripada perempuan.\n"
     ]
    }
   ],
   "source": [
    "# Membuat tabel kontingensi\n",
    "contingency_table = pd.crosstab(df['sex'], df['smoker'])\n",
    "\n",
    "# Melakukan uji chi-square\n",
    "chi2, p_value, _, _ = chi2_contingency(contingency_table)\n",
    "print(\"P-value:\", p_value)\n",
    "print(\"---\" * 12)\n",
    "\n",
    "# Menentukan hasil pengujian\n",
    "alpha = 0.05  # Tingkat signifikansi\n",
    "print(\"alpha:\", alpha)\n",
    "print(\"---\" * 12)\n",
    "\n",
    "if p_value < alpha:\n",
    "    print(\"Menolak H0. Proporsi perokok laki-laki lebih besar daripada perempuan.\")\n",
    "else:\n",
    "    print(\"Menerima H0. Tidak ada bukti bahwa proporsi perokok laki-laki lebih besar daripada perempuan.\")"
   ]
  },
  {
   "cell_type": "markdown",
   "id": "59cc2404",
   "metadata": {},
   "source": [
    "### c. Variasi tagihan kesehatan perokok dan non perokok sama"
   ]
  },
  {
   "cell_type": "markdown",
   "id": "fe53776d",
   "metadata": {},
   "source": [
    "Untuk menguji hipotesis bahwa variasi tagihan kesehatan perokok dan non perokok sama, kita dapat menggunakan uji statistik, seperti uji F atau uji Levene. Uji ini digunakan untuk membandingkan variasi antara dua kelompok."
   ]
  },
  {
   "cell_type": "code",
   "execution_count": 39,
   "id": "9e00f927",
   "metadata": {},
   "outputs": [
    {
     "name": "stdout",
     "output_type": "stream",
     "text": [
      "P-value: 1.670117565125241e-66\n",
      "------------------------------------\n",
      "alpha: 0.05\n",
      "------------------------------------\n",
      "Menolak H0. Variasi tagihan kesehatan perokok dan non perokok berbeda.\n"
     ]
    }
   ],
   "source": [
    "# Memisahkan tagihan kesehatan perokok dan non-perokok\n",
    "tagihan_perokok = df[df['smoker'] == 'yes']['charges']\n",
    "tagihan_non_perokok = df[df['smoker'] == 'no']['charges']\n",
    "\n",
    "# Melakukan uji Levene\n",
    "statistic, p_value = levene(tagihan_perokok, tagihan_non_perokok)\n",
    "print(\"P-value:\", p_value)\n",
    "print(\"---\" * 12)\n",
    "\n",
    "# Menentukan hasil pengujian\n",
    "alpha = 0.05  # Tingkat signifikansi\n",
    "print(\"alpha:\", alpha)\n",
    "print(\"---\" * 12)\n",
    "\n",
    "if p_value < alpha:\n",
    "    print(\"Menolak H0. Variasi tagihan kesehatan perokok dan non perokok berbeda.\")\n",
    "else:\n",
    "    print(\"Menerima H0. Tidak ada bukti bahwa variasi tagihan kesehatan perokok dan non perokok berbeda.\")\n"
   ]
  },
  {
   "cell_type": "markdown",
   "id": "ded576ab",
   "metadata": {},
   "source": [
    "### d. Tagihan Kesehatan dengan BMI diatas 25 lebih tinggi daripada tagihan kesehatan dengan BMI dibawah 25"
   ]
  },
  {
   "cell_type": "code",
   "execution_count": 40,
   "id": "497e8bbe",
   "metadata": {},
   "outputs": [
    {
     "name": "stdout",
     "output_type": "stream",
     "text": [
      "P-value: 1.6909664264439038e-05\n",
      "------------------------------------\n",
      "alpha: 0.05\n",
      "------------------------------------\n",
      "Menolak H0. Tagihan kesehatan dengan BMI di atas 25 lebih tinggi daripada BMI di bawah 25.\n"
     ]
    }
   ],
   "source": [
    "# Memisahkan tagihan kesehatan dengan BMI di atas 25 dan di bawah 25\n",
    "tagihan_bmi_atas_25 = df[df['bmi'] > 25]['charges']\n",
    "tagihan_bmi_bawah_25 = df[df['bmi'] < 25]['charges']\n",
    "\n",
    "# Melakukan uji-t\n",
    "t_statistic, p_value = ttest_ind(tagihan_bmi_atas_25, tagihan_bmi_bawah_25)\n",
    "print(\"P-value:\", p_value)\n",
    "print(\"---\" * 12)\n",
    "      \n",
    "# Menentukan hasil pengujian\n",
    "alpha = 0.05  # Tingkat signifikansi\n",
    "print(\"alpha:\", alpha)\n",
    "print(\"---\" * 12)\n",
    "\n",
    "if p_value < alpha:\n",
    "    print(\"Menolak H0. Tagihan kesehatan dengan BMI di atas 25 lebih tinggi daripada BMI di bawah 25.\")\n",
    "else:\n",
    "    print(\"Menerima H0. Tidak ada bukti bahwa tagihan kesehatan dengan BMI di atas 25 lebih tinggi daripada BMI di bawah 25.\")"
   ]
  },
  {
   "cell_type": "markdown",
   "id": "9e2a778c",
   "metadata": {},
   "source": [
    "### e. Tagihan kesehatan laki-laki lebih besar dari perempuan"
   ]
  },
  {
   "cell_type": "code",
   "execution_count": 41,
   "id": "409b87e2",
   "metadata": {},
   "outputs": [
    {
     "name": "stdout",
     "output_type": "stream",
     "text": [
      "P-value: 0.0338207919951195\n",
      "------------------------------------\n",
      "alpha: 0.05\n",
      "------------------------------------\n",
      "Menolak H0. Tagihan kesehatan laki-laki lebih besar daripada perempuan.\n"
     ]
    }
   ],
   "source": [
    "# Memisahkan tagihan kesehatan laki-laki dan perempuan\n",
    "tagihan_laki_laki = df[df['sex'] == 'male']['charges']\n",
    "tagihan_perempuan = df[df['sex'] == 'female']['charges']\n",
    "\n",
    "# Melakukan uji-t\n",
    "t_statistic, p_value = ttest_ind(tagihan_laki_laki, tagihan_perempuan)\n",
    "print(\"P-value:\", p_value)\n",
    "print(\"---\" * 12)\n",
    "\n",
    "# Menentukan hasil pengujian\n",
    "alpha = 0.05  # Tingkat signifikansi\n",
    "print(\"alpha:\", alpha)\n",
    "print(\"---\" * 12)\n",
    "\n",
    "if p_value < alpha:\n",
    "    hasil_pengujian = \"Tolak H0, Tagihan kesehatan laki-laki lebih besar daripada perempuan\"\n",
    "else:\n",
    "    hasil_pengujian = \"Terima H0, Tidak ada bukti bahwa tagihan kesehatan laki-laki lebih besar daripada perempuan\"\n",
    "\n",
    "if p_value < alpha:\n",
    "    print(\"Menolak H0. Tagihan kesehatan laki-laki lebih besar daripada perempuan.\")\n",
    "else:\n",
    "    print(\"Menerima H0. Tidak ada bukti bahwa tagihan kesehatan laki-laki lebih besar daripada perempuan.\")"
   ]
  },
  {
   "cell_type": "code",
   "execution_count": null,
   "id": "1dd27389",
   "metadata": {},
   "outputs": [],
   "source": []
  }
 ],
 "metadata": {
  "kernelspec": {
   "display_name": "Python 3",
   "language": "python",
   "name": "python3"
  },
  "language_info": {
   "codemirror_mode": {
    "name": "ipython",
    "version": 3
   },
   "file_extension": ".py",
   "mimetype": "text/x-python",
   "name": "python",
   "nbconvert_exporter": "python",
   "pygments_lexer": "ipython3",
   "version": "3.8.8"
  }
 },
 "nbformat": 4,
 "nbformat_minor": 5
}
